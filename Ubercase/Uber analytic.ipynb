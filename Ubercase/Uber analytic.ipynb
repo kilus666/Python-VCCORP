{
 "cells": [
  {
   "cell_type": "code",
   "execution_count": 1,
   "metadata": {},
   "outputs": [],
   "source": [
    "import os\n",
    "import fnmatch\n",
    "import pandas as pd\n",
    "import pickle as pk\n",
    "from multiprocessing import Pool\n",
    "import workers\n",
    "import time\n",
    "\n",
    "Dataset_location= \"C:/Users/Admin/Desktop/Dataset/uber-pickups-in-new-york-city\""
   ]
  },
  {
   "cell_type": "code",
   "execution_count": 2,
   "metadata": {},
   "outputs": [],
   "source": [
    "def get_file_location(folder_location):\n",
    "    file_list= []\n",
    "    for filename in os.listdir(folder_location):\n",
    "        if fnmatch.fnmatch(filename, 'uber-raw-data-*14.csv'):\n",
    "            full_path= os.path.join(folder_location,filename)\n",
    "            file_list.append(full_path)\n",
    "    return(file_list)"
   ]
  },
  {
   "cell_type": "code",
   "execution_count": 3,
   "metadata": {},
   "outputs": [],
   "source": [
    "# Create a workers.py module in the same folder with the following code\n",
    "# def read_csv_to_datetime(file):\n",
    "#     monthly_data= pd.read_csv(file,delimiter=\",\",header=0)\n",
    "#     monthly_data[\"Date/Time\"]=pd.to_datetime(monthly_data[\"Date/Time\"])\n",
    "#     return monthly_data\n",
    "# The purpose of this is to run the multiprocessing read and merge csv file"
   ]
  },
  {
   "cell_type": "code",
   "execution_count": null,
   "metadata": {},
   "outputs": [
    {
     "name": "stdout",
     "output_type": "stream",
     "text": [
      "Start\n"
     ]
    }
   ],
   "source": [
    "if __name__==\"__main__\":\n",
    "    \n",
    "    print(\"Start\")\n",
    "    start= time.time()\n",
    "    list_of_files= get_file_location(Dataset_location)\n",
    "    pool= Pool(processes=4)\n",
    "    df= pool.map(workers.read_csv_to_datetime,list_of_files)\n",
    "    end= time.time()\n",
    "    print(\"End\")\n",
    "    print(end-start)\n",
    "    "
   ]
  },
  {
   "cell_type": "code",
   "execution_count": null,
   "metadata": {},
   "outputs": [],
   "source": [
    "new_df= pd.DataFrame()\n",
    "for data in df:\n",
    "    new_df= pd.concat([data, new_df])"
   ]
  },
  {
   "cell_type": "code",
   "execution_count": null,
   "metadata": {},
   "outputs": [],
   "source": [
    "df= new_df\n",
    "df.info()"
   ]
  },
  {
   "cell_type": "code",
   "execution_count": null,
   "metadata": {},
   "outputs": [],
   "source": [
    "def get_dom(dt):\n",
    "    return dt.day\n",
    "\n",
    "def get_weekday(dt):\n",
    "    return dt.weekday()\n",
    "\n",
    "def get_hour(dt):\n",
    "    return dt.hour\n",
    "\n",
    "def get_month(dt):\n",
    "    return dt.month\n",
    "\n",
    "\n",
    "df['Day_of_month']= df[\"Date/Time\"].map(get_dom)\n",
    "\n",
    "df['weekday']= df[\"Date/Time\"].map(get_weekday)\n",
    "\n",
    "df['Hour']= df[\"Date/Time\"].map(get_hour)\n",
    "\n",
    "df[\"Month\"]= df[\"Date/Time\"].map(get_month)\n"
   ]
  },
  {
   "cell_type": "code",
   "execution_count": null,
   "metadata": {},
   "outputs": [],
   "source": [
    "df['Month'].value_counts()"
   ]
  },
  {
   "cell_type": "code",
   "execution_count": 25,
   "metadata": {},
   "outputs": [
    {
     "name": "stdout",
     "output_type": "stream",
     "text": [
      "Populating the interactive namespace from numpy and matplotlib\n"
     ]
    }
   ],
   "source": [
    "%pylab inline\n",
    "import seaborn as sns\n",
    "import matplotlib.pyplot as plt"
   ]
  },
  {
   "cell_type": "code",
   "execution_count": 33,
   "metadata": {},
   "outputs": [
    {
     "data": {
      "text/plain": [
       "Month  Day_of_month\n",
       "4      1               14546\n",
       "       2               17474\n",
       "       3               20701\n",
       "       4               26714\n",
       "       5               19521\n",
       "       6               13445\n",
       "       7               19550\n",
       "       8               16188\n",
       "       9               16843\n",
       "       10              20041\n",
       "       11              20420\n",
       "       12              18170\n",
       "       13              12112\n",
       "       14              12674\n",
       "       15              20641\n",
       "       16              17717\n",
       "       17              20973\n",
       "       18              18074\n",
       "       19              14602\n",
       "       20              11017\n",
       "       21              13162\n",
       "       22              16975\n",
       "       23              20346\n",
       "       24              23352\n",
       "       25              25095\n",
       "       26              24925\n",
       "       27              14677\n",
       "       28              15475\n",
       "       29              22835\n",
       "       30              36251\n",
       "dtype: int64"
      ]
     },
     "execution_count": 33,
     "metadata": {},
     "output_type": "execute_result"
    }
   ],
   "source": [
    "def count_rows(rows):\n",
    "    return len(rows)\n",
    "\n",
    "by_date = df.groupby([\"Month\",\"Day_of_month\"]).apply(count_rows)\n",
    "by_date"
   ]
  },
  {
   "cell_type": "code",
   "execution_count": null,
   "metadata": {},
   "outputs": [],
   "source": []
  },
  {
   "cell_type": "code",
   "execution_count": null,
   "metadata": {},
   "outputs": [],
   "source": []
  },
  {
   "cell_type": "code",
   "execution_count": null,
   "metadata": {},
   "outputs": [],
   "source": []
  },
  {
   "cell_type": "code",
   "execution_count": null,
   "metadata": {},
   "outputs": [],
   "source": []
  },
  {
   "cell_type": "code",
   "execution_count": null,
   "metadata": {},
   "outputs": [],
   "source": []
  },
  {
   "cell_type": "code",
   "execution_count": null,
   "metadata": {},
   "outputs": [],
   "source": []
  },
  {
   "cell_type": "code",
   "execution_count": null,
   "metadata": {},
   "outputs": [],
   "source": []
  },
  {
   "cell_type": "code",
   "execution_count": null,
   "metadata": {},
   "outputs": [],
   "source": []
  },
  {
   "cell_type": "code",
   "execution_count": null,
   "metadata": {},
   "outputs": [],
   "source": []
  },
  {
   "cell_type": "code",
   "execution_count": null,
   "metadata": {},
   "outputs": [],
   "source": []
  },
  {
   "cell_type": "code",
   "execution_count": null,
   "metadata": {},
   "outputs": [],
   "source": []
  },
  {
   "cell_type": "code",
   "execution_count": null,
   "metadata": {},
   "outputs": [],
   "source": []
  }
 ],
 "metadata": {
  "kernelspec": {
   "display_name": "Python 3",
   "language": "python",
   "name": "python3"
  },
  "language_info": {
   "codemirror_mode": {
    "name": "ipython",
    "version": 3
   },
   "file_extension": ".py",
   "mimetype": "text/x-python",
   "name": "python",
   "nbconvert_exporter": "python",
   "pygments_lexer": "ipython3",
   "version": "3.7.3"
  }
 },
 "nbformat": 4,
 "nbformat_minor": 2
}
